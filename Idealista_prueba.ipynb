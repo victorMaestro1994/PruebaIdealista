{
 "cells": [
  {
   "cell_type": "markdown",
   "metadata": {},
   "source": [
    "Obtener el fichero usando la librería requests"
   ]
  },
  {
   "cell_type": "code",
   "execution_count": 4,
   "metadata": {},
   "outputs": [],
   "source": [
    "import requests as rq\n",
    "import bz2\n",
    "\n",
    "request = rq.get(\"https://gist.github.com/juanriaza/9b6f7ab3fc1cbda81100fa5d32512fd8/raw/a61db2d8d81789d5c7040eacee7b225bc2b2aa7f/data.csv.bz2\")\n",
    "target_path = 'file.csv.bz2'\n",
    "\n",
    "if request.status_code == 200:\n",
    "    with open(target_path, 'wb') as f:\n",
    "        f.write(request.content)\n",
    "        \n",
    "f_in = open(\"file.csv.bz2\", \"rb\")\n",
    "f_out = open(\"file.csv\", \"wb\")\n",
    "f_out.write(bz2.decompress(f_in.read()))\n",
    "f_out.close()\n",
    "f_in.close()\n",
    "\n",
    "#dbfile = bz2.BZ2File(bz2file)\n",
    "#dbconn = sqlite3.connect(dbfile)"
   ]
  },
  {
   "cell_type": "markdown",
   "metadata": {},
   "source": [
    "Usando línea de comandos importar los datos de dicho fichero en una base de datos que resida en un fichero SQLite. "
   ]
  },
  {
   "cell_type": "code",
   "execution_count": 5,
   "metadata": {},
   "outputs": [],
   "source": [
    "import sqlite3 \n",
    "import pandas as pd\n",
    "\n",
    "conn = sqlite3.connect(r'database.db')\n",
    "c=conn.cursor()\n",
    "\n",
    "df = pd.read_csv('file.csv', sep = '|')\n",
    "df.to_sql('Datos', conn, if_exists='append', index=False)\n",
    "\n",
    "df = pd.read_sql_query(\"select * from Datos;\", conn)\n",
    "\n",
    "conn.close()\n"
   ]
  },
  {
   "cell_type": "markdown",
   "metadata": {},
   "source": [
    " Usando la librería sqlite3 deberás responder a las siguientes preguntas mediante queries SQL:"
   ]
  },
  {
   "cell_type": "code",
   "execution_count": 7,
   "metadata": {},
   "outputs": [],
   "source": [
    "conn = sqlite3.connect(r'database.db')\n",
    "c=conn.cursor()\n",
    "\n",
    "\n",
    "\n",
    "#Número de inmuebles en alquiler que tiene cada cliente profesional por código postal\n",
    "df11 = pd.read_sql_query(\"select customer_id, zipcode, count(*) from Datos where is_professional = 1 and transaction_type = 'rent'  group by customer_id, zipcode;\", conn)\n",
    "\n",
    "#Obtén los siguientes códigos postales de la ciudad de Barcelona:\n",
    "#Código postal del precio por metro cuadrado más barato\n",
    "df12 = pd.read_sql_query(\"select zipcode, price/area from Datos where zipcode like '08%' and transaction_type = 'sale' and price/area <> 'None' and price/area <> 0 order by 2 limit 1;\", conn)\n",
    "\n",
    "\n",
    "#Código postal del precio por metro cuadrado más caro\n",
    "df13 = pd.read_sql_query(\"select zipcode, price/area from Datos where zipcode like '08%' and transaction_type = 'sale' order by 2 desc limit 1;\", conn)\n",
    "\n",
    "\n",
    "#Cliente profesional que tiene la cartera de inmuebles más envejecida\n",
    "df14 = pd.read_sql_query(\"select customer_id, CAST(AVG(CAST( date_added  AS INT)) AS DATETIME) from Datos where is_professional = 1 group by customer_id order by 2 asc limit 1;\", conn)\n",
    "\n",
    "#En qué ciudad se encuentra el terreno urbanizable más caro?\n",
    "df15 = pd.read_sql_query(\"select city, price from Datos where subtypology = 'Terreno Urbanizable' order by 2 desc limit 1;\", conn)\n",
    "\n",
    "\n",
    "conn.close()\n"
   ]
  },
  {
   "cell_type": "markdown",
   "metadata": {},
   "source": [
    "Realiza los mismos ejercicios del apartado 4 utilizando la librería pandas"
   ]
  },
  {
   "cell_type": "code",
   "execution_count": 8,
   "metadata": {},
   "outputs": [],
   "source": [
    "import numpy as np\n",
    "\n",
    "#Número de inmuebles en alquiler que tiene cada cliente profesional por código postal\n",
    "df21 = df.loc[df['is_professional'] == 1].groupby(['customer_id', 'zipcode']).count()[['typology']]\n",
    "\n",
    "#Obtén los siguientes códigos postales de la ciudad de Barcelona:\n",
    "#Código postal del precio por metro cuadrado más barato\n",
    "df['preciopormetrocuadrado'] = df['price'] / df['area']\n",
    "df = df.replace([np.inf, -np.inf], np.nan).dropna(subset=[\"preciopormetrocuadrado\"], how=\"all\") \n",
    "\n",
    "df22 = df.loc[df['transaction_type'] == 'sale'].loc[df['city'] == 'Barcelona Capital']\\\n",
    "        .loc[df['price'] > 0] \\\n",
    "        .sort_values(by=['price'], ascending=True)\n",
    "\n",
    "\n",
    "#Código postal del precio por metro cuadrado más caro\n",
    "df23 = df.loc[df['transaction_type'] == 'sale'].loc[df['city'] == 'Barcelona Capital']\\\n",
    "        .loc[df['price'] > 0] \\\n",
    "        .sort_values(by=['price'], ascending=False)\n",
    "\n",
    "\n",
    "#Cliente profesional que tiene la cartera de inmuebles más envejecida\n",
    "df.date_added = pd.to_datetime(df.date_added).values.astype(np.int64)\n",
    "df24 = df.loc[df['is_professional'] == 1].groupby(['customer_id']).mean()[['date_added']].\\\n",
    "        sort_values(by=['date_added'], ascending=True)\n",
    "\n",
    "\n",
    "#En qué ciudad se encuentra el terreno urbanizable más caro?\n",
    "df25 = df.loc[df['subtypology'] == 'Terreno Urbanizable'].sort_values(by=['price'], ascending=False)\n"
   ]
  },
  {
   "cell_type": "markdown",
   "metadata": {},
   "source": [
    "Un inversor quiere saber por código postal qué propiedades son interesantes. Añade al dataframe de pandas las siguientes columnas:\n",
    "\n",
    "over_valued (0/1)\n",
    "\n",
    "normal(0/1)\n",
    "\n",
    "under_valued (0/1) \n",
    "\n",
    "\n",
    "Qué código postal tiene el mayor número de \"chollos\"?"
   ]
  },
  {
   "cell_type": "code",
   "execution_count": 9,
   "metadata": {},
   "outputs": [],
   "source": [
    "preciosmediosdf=df.loc[df['transaction_type'] == 'sale'].groupby(['zipcode']).mean()[['preciopormetrocuadrado']]\n",
    "preciosmediosdf['PrecioMedioMetroCuadrado']=preciosmediosdf['preciopormetrocuadrado']\n",
    "preciosmediosdf = preciosmediosdf.drop(['preciopormetrocuadrado'], axis=1)\n",
    "\n",
    "JOIN = df.merge(preciosmediosdf, on='zipcode', how='left')\n",
    "\n",
    "JOIN['over_valued'] = np.where(JOIN['preciopormetrocuadrado'] > 1.2 *JOIN['PrecioMedioMetroCuadrado'] , 1, 0)\n",
    "JOIN['normal'] = np.where((JOIN['preciopormetrocuadrado'] >= 0.8 *JOIN['PrecioMedioMetroCuadrado']) & (JOIN['preciopormetrocuadrado'] <= 1.2 *JOIN['PrecioMedioMetroCuadrado']), 1, 0)\n",
    "JOIN['under_valued'] = np.where(JOIN['preciopormetrocuadrado'] < 0.8 *JOIN['PrecioMedioMetroCuadrado'], 1, 0)\n",
    "\n",
    "\n",
    "chollos = JOIN.groupby(['zipcode']).sum()[['under_valued']].sort_values(by=['under_valued'], ascending=False)\n"
   ]
  },
  {
   "cell_type": "markdown",
   "metadata": {},
   "source": [
    " Guarda el nuevo dataframe del anterior apartado en un fichero json comprimido con gzip"
   ]
  },
  {
   "cell_type": "code",
   "execution_count": 40,
   "metadata": {},
   "outputs": [],
   "source": [
    "chollos.to_json(r'chollos.json')\n",
    "#JOIN.to_json(r'JOIN.json')"
   ]
  },
  {
   "cell_type": "markdown",
   "metadata": {},
   "source": [
    "Como ejercicio extra realizaremos una visualización de un histograma de los precios de las viviendas en ventas para comprar los previos de Barcelona capital con los dos núcleos urbanos contiguos más importantes. \n",
    "\n",
    " "
   ]
  },
  {
   "cell_type": "code",
   "execution_count": 34,
   "metadata": {},
   "outputs": [
    {
     "data": {
      "text/plain": [
       "<matplotlib.legend.Legend at 0x2aeaed1b0c8>"
      ]
     },
     "execution_count": 34,
     "metadata": {},
     "output_type": "execute_result"
    },
    {
     "data": {
      "image/png": "[encoded data removed]",
      "text/plain": [
       "<Figure size 1080x720 with 1 Axes>"
      ]
     },
     "metadata": {
      "needs_background": "light"
     },
     "output_type": "display_data"
    }
   ],
   "source": [
    "import matplotlib.pyplot as plt\n",
    "plt.figure(figsize=(15,10))\n",
    "BCN = JOIN.loc[JOIN['transaction_type'] == 'sale'].\\\n",
    "        loc[JOIN['city'] == 'Barcelona Capital'].loc[JOIN['typology'] == 'Vivienda'][\"price\"].\\\n",
    "        plot(kind='hist', bins=30, range=(1, 1000000), color='g', alpha = 0.5)\n",
    "BDN = JOIN.loc[JOIN['transaction_type'] == 'sale'].\\\n",
    "        loc[JOIN['city'] == 'Badalona'].loc[JOIN['typology'] == 'Vivienda'][\"price\"].\\\n",
    "        plot(kind='hist', bins=30, range=(1, 1000000), color='r', alpha = 0.5)\n",
    "COR = JOIN.loc[JOIN['transaction_type'] == 'sale'].\\\n",
    "        loc[JOIN['city'] == 'Cornellà de Llobregat'].loc[JOIN['typology'] == 'Vivienda'][\"price\"].\\\n",
    "        plot(kind='hist', bins=30, range=(1, 1000000), color='b', alpha = 0.5)\n",
    "\n",
    "plt.xlabel(\"Precio\", fontdict=None, labelpad=None)\n",
    "BCN.legend(labels = [\"Barcelona\", \"Badalona\", \"Cornellà\"])"
   ]
  },
  {
   "cell_type": "code",
   "execution_count": null,
   "metadata": {},
   "outputs": [],
   "source": []
  }
 ],
 "metadata": {
  "kernelspec": {
   "display_name": "Python 3",
   "language": "python",
   "name": "python3"
  },
  "language_info": {
   "codemirror_mode": {
    "name": "ipython",
    "version": 3
   },
   "file_extension": ".py",
   "mimetype": "text/x-python",
   "name": "python",
   "nbconvert_exporter": "python",
   "pygments_lexer": "ipython3",
   "version": "3.7.4"
  }
 },
 "nbformat": 4,
 "nbformat_minor": 2
}
